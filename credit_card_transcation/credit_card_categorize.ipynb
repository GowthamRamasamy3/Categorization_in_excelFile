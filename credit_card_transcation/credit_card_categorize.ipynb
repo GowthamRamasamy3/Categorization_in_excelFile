{
 "cells": [
  {
   "cell_type": "code",
   "execution_count": 3,
   "metadata": {},
   "outputs": [
    {
     "data": {
      "image/png": "[encoded data removed]",
      "text/plain": [
       "<Figure size 1000x600 with 1 Axes>"
      ]
     },
     "metadata": {},
     "output_type": "display_data"
    }
   ],
   "source": [
    "import pandas as pd\n",
    "import matplotlib.pyplot as plt\n",
    "\n",
    "# First step i loaded the excel file\n",
    "file_path = r'C:\\Users\\Gowtham\\Desktop\\credit_card_transcation\\Book1.xlsx'  # Using raw string\n",
    "df = pd.read_excel(file_path)\n",
    "\n",
    "# Defining a function to categorize transactions based on the description\n",
    "def categorize_transaction(description):\n",
    "    description = str(description).lower()\n",
    "    if \"upi\" in description:\n",
    "        return \"UPI\"\n",
    "    elif \"imps\" in description:\n",
    "        return \"IMPS\"\n",
    "    elif \"emi\" in description or \"loan\" in description:\n",
    "        return \"Loan\"\n",
    "    else:\n",
    "        return \"Self\"\n",
    "\n",
    "# Creating a new column 'Category'\n",
    "df['Category'] = df['Description'].apply(categorize_transaction)\n",
    "\n",
    "# Save the updated dataframe to a new Excel file\n",
    "output_file_path = r'C:\\Users\\Gowtham\\Desktop\\credit_card_transcation\\Updated_Book1.xlsx'  # Using raw string\n",
    "df.to_excel(output_file_path, index=False)\n",
    "\n",
    "# I used Visualization for better understanding\n",
    "category_counts = df['Category'].value_counts()\n",
    "\n",
    "plt.figure(figsize=(10, 6))\n",
    "category_counts.plot(kind='bar', color=['skyblue', 'lightgreen', 'lightcoral', 'lightgray'])\n",
    "plt.title('Distribution of Transaction Categories')\n",
    "plt.xlabel('Category')\n",
    "plt.ylabel('Number of Transactions')\n",
    "plt.xticks(rotation=0)\n",
    "plt.show()\n"
   ]
  },
  {
   "cell_type": "code",
   "execution_count": 7,
   "metadata": {},
   "outputs": [],
   "source": [
    "updated_df = pd.read_excel(r'C:\\Users\\Gowtham\\Desktop\\credit_card_transcation\\Updated_Book1.xlsx')"
   ]
  },
  {
   "cell_type": "code",
   "execution_count": 9,
   "metadata": {},
   "outputs": [
    {
     "data": {
      "text/html": [
       "<div>\n",
       "<style scoped>\n",
       "    .dataframe tbody tr th:only-of-type {\n",
       "        vertical-align: middle;\n",
       "    }\n",
       "\n",
       "    .dataframe tbody tr th {\n",
       "        vertical-align: top;\n",
       "    }\n",
       "\n",
       "    .dataframe thead th {\n",
       "        text-align: right;\n",
       "    }\n",
       "</style>\n",
       "<table border=\"1\" class=\"dataframe\">\n",
       "  <thead>\n",
       "    <tr style=\"text-align: right;\">\n",
       "      <th></th>\n",
       "      <th>Date</th>\n",
       "      <th>Description</th>\n",
       "      <th>Chq No</th>\n",
       "      <th>Credit</th>\n",
       "      <th>Debit</th>\n",
       "      <th>Balance</th>\n",
       "      <th>Category</th>\n",
       "    </tr>\n",
       "  </thead>\n",
       "  <tbody>\n",
       "    <tr>\n",
       "      <th>0</th>\n",
       "      <td>2024-01-01</td>\n",
       "      <td>UPI/P2A/436737414449/P SELVARA/Indian Ov/abthu...</td>\n",
       "      <td></td>\n",
       "      <td>6000</td>\n",
       "      <td></td>\n",
       "      <td>1292716.38</td>\n",
       "      <td>UPI</td>\n",
       "    </tr>\n",
       "    <tr>\n",
       "      <th>1</th>\n",
       "      <td>2024-01-01</td>\n",
       "      <td>UPI/P2A/400114040407/ILAYARAJA/Karur Vys/malar...</td>\n",
       "      <td></td>\n",
       "      <td>9000</td>\n",
       "      <td></td>\n",
       "      <td>1301716.38</td>\n",
       "      <td>UPI</td>\n",
       "    </tr>\n",
       "    <tr>\n",
       "      <th>2</th>\n",
       "      <td>2024-01-01</td>\n",
       "      <td>AUR008208534078_EMI_01-01-2024_S BALAJI</td>\n",
       "      <td></td>\n",
       "      <td></td>\n",
       "      <td>21853</td>\n",
       "      <td>1279863.38</td>\n",
       "      <td>Loan</td>\n",
       "    </tr>\n",
       "    <tr>\n",
       "      <th>3</th>\n",
       "      <td>2024-01-01</td>\n",
       "      <td>EDC/42871-42886-/M037345012240028</td>\n",
       "      <td></td>\n",
       "      <td>284055</td>\n",
       "      <td></td>\n",
       "      <td>1563918.38</td>\n",
       "      <td>Self</td>\n",
       "    </tr>\n",
       "    <tr>\n",
       "      <th>4</th>\n",
       "      <td>2024-01-01</td>\n",
       "      <td>UPI/P2A/400150094918/INDIRA N/UCO Bank/malarava/</td>\n",
       "      <td></td>\n",
       "      <td>9170</td>\n",
       "      <td></td>\n",
       "      <td>1573088.38</td>\n",
       "      <td>UPI</td>\n",
       "    </tr>\n",
       "  </tbody>\n",
       "</table>\n",
       "</div>"
      ],
      "text/plain": [
       "        Date                                        Description Chq No  \\\n",
       "0 2024-01-01  UPI/P2A/436737414449/P SELVARA/Indian Ov/abthu...          \n",
       "1 2024-01-01  UPI/P2A/400114040407/ILAYARAJA/Karur Vys/malar...          \n",
       "2 2024-01-01            AUR008208534078_EMI_01-01-2024_S BALAJI          \n",
       "3 2024-01-01                  EDC/42871-42886-/M037345012240028          \n",
       "4 2024-01-01   UPI/P2A/400150094918/INDIRA N/UCO Bank/malarava/          \n",
       "\n",
       "   Credit  Debit     Balance Category  \n",
       "0    6000         1292716.38      UPI  \n",
       "1    9000         1301716.38      UPI  \n",
       "2          21853  1279863.38     Loan  \n",
       "3  284055         1563918.38     Self  \n",
       "4    9170         1573088.38      UPI  "
      ]
     },
     "execution_count": 9,
     "metadata": {},
     "output_type": "execute_result"
    }
   ],
   "source": [
    "updated_df.head()"
   ]
  },
  {
   "cell_type": "code",
   "execution_count": 13,
   "metadata": {},
   "outputs": [
    {
     "name": "stdout",
     "output_type": "stream",
     "text": [
      "Accuracy for Chq No: 100.00%\n",
      "Accuracy for Credit: 100.00%\n",
      "Accuracy for Debit: 100.00%\n",
      "Accuracy for Balance: 100.00%\n",
      "Column Category is missing in one of the files.\n"
     ]
    }
   ],
   "source": [
    "import pandas as pd\n",
    "\n",
    "# Load both Excel files into DataFrames\n",
    "file1_path = r'C:\\Users\\Gowtham\\Desktop\\credit_card_transcation\\Book1.xlsx'\n",
    "file2_path = r'C:\\Users\\Gowtham\\Desktop\\credit_card_transcation\\Updated_Book1.xlsx'\n",
    "\n",
    "df1 = pd.read_excel(file1_path)\n",
    "df2 = pd.read_excel(file2_path)\n",
    "df1_sorted = df1.sort_values(by=['Date', 'Description']).reset_index(drop=True)\n",
    "df2_sorted = df2.sort_values(by=['Date', 'Description']).reset_index(drop=True)\n",
    "\n",
    "merged_df = pd.merge(df1_sorted, df2_sorted, on=['Date', 'Description'], suffixes=('_file1', '_file2'))\n",
    "\n",
    "# Compare columns from both files\n",
    "columns_to_compare = ['Chq No', 'Credit', 'Debit', 'Balance', 'Category']\n",
    "accuracy_scores = {}\n",
    "\n",
    "for column in columns_to_compare:\n",
    "    column_file1 = f'{column}_file1'\n",
    "    column_file2 = f'{column}_file2'\n",
    "    \n",
    "    # Check if the column exists in both DataFrames\n",
    "    if column_file1 in merged_df.columns and column_file2 in merged_df.columns:\n",
    "        # Calculate accuracy for this column\n",
    "        correct_matches = (merged_df[column_file1] == merged_df[column_file2]).sum()\n",
    "        total_comparisons = len(merged_df)\n",
    "        accuracy = correct_matches / total_comparisons\n",
    "        accuracy_scores[column] = accuracy\n",
    "    else:\n",
    "        accuracy_scores[column] = None  # Column missing in one of the DataFrames\n",
    "\n",
    "# Print accuracy scores for each column\n",
    "for column, accuracy in accuracy_scores.items():\n",
    "    if accuracy is not None:\n",
    "        print(f'Accuracy for {column}: {accuracy:.2%}')\n",
    "    else:\n",
    "        print(f'Column {column} is missing in one of the files.')\n"
   ]
  },
  {
   "cell_type": "code",
   "execution_count": null,
   "metadata": {},
   "outputs": [],
   "source": []
  }
 ],
 "metadata": {
  "kernelspec": {
   "display_name": "Python 3",
   "language": "python",
   "name": "python3"
  },
  "language_info": {
   "codemirror_mode": {
    "name": "ipython",
    "version": 3
   },
   "file_extension": ".py",
   "mimetype": "text/x-python",
   "name": "python",
   "nbconvert_exporter": "python",
   "pygments_lexer": "ipython3",
   "version": "3.10.11"
  }
 },
 "nbformat": 4,
 "nbformat_minor": 2
}
